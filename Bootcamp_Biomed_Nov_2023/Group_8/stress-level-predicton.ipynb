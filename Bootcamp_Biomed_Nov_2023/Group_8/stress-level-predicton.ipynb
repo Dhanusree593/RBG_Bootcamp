{
 "cells": [
  {
   "cell_type": "markdown",
   "id": "3210d77c",
   "metadata": {
    "papermill": {
     "duration": 0.006556,
     "end_time": "2022-09-10T15:13:31.744601",
     "exception": false,
     "start_time": "2022-09-10T15:13:31.738045",
     "status": "completed"
    },
    "tags": []
   },
   "source": []
  },
  {
   "cell_type": "code",
   "execution_count": 1,
   "id": "05833f73",
   "metadata": {
    "execution": {
     "iopub.execute_input": "2022-09-10T15:13:31.760594Z",
     "iopub.status.busy": "2022-09-10T15:13:31.759601Z",
     "iopub.status.idle": "2022-09-10T15:13:32.934151Z",
     "shell.execute_reply": "2022-09-10T15:13:32.932719Z"
    },
    "papermill": {
     "duration": 1.186072,
     "end_time": "2022-09-10T15:13:32.937631",
     "exception": false,
     "start_time": "2022-09-10T15:13:31.751559",
     "status": "completed"
    },
    "tags": []
   },
   "outputs": [],
   "source": [
    "import numpy as np\n",
    "import pandas as pd\n",
    "import matplotlib.pyplot as plt\n",
    "%matplotlib inline\n",
    "import seaborn as sns\n",
    "import warnings\n",
    "warnings.filterwarnings('ignore')"
   ]
  },
  {
   "cell_type": "markdown",
   "id": "7333718f",
   "metadata": {
    "papermill": {
     "duration": 0.008961,
     "end_time": "2022-09-10T15:13:32.957089",
     "exception": false,
     "start_time": "2022-09-10T15:13:32.948128",
     "status": "completed"
    },
    "tags": []
   },
   "source": [
    "# read csv file"
   ]
  },
  {
   "cell_type": "code",
   "execution_count": 2,
   "id": "e338fdde",
   "metadata": {
    "execution": {
     "iopub.execute_input": "2022-09-10T15:13:32.974207Z",
     "iopub.status.busy": "2022-09-10T15:13:32.973122Z",
     "iopub.status.idle": "2022-09-10T15:13:32.992148Z",
     "shell.execute_reply": "2022-09-10T15:13:32.990902Z"
    },
    "papermill": {
     "duration": 0.031111,
     "end_time": "2022-09-10T15:13:32.995527",
     "exception": false,
     "start_time": "2022-09-10T15:13:32.964416",
     "status": "completed"
    },
    "tags": []
   },
   "outputs": [],
   "source": [
    "df=pd.read_csv('Stress-Lysis.csv')"
   ]
  },
  {
   "cell_type": "markdown",
   "id": "0f719a83",
   "metadata": {
    "papermill": {
     "duration": 0.006821,
     "end_time": "2022-09-10T15:13:33.009818",
     "exception": false,
     "start_time": "2022-09-10T15:13:33.002997",
     "status": "completed"
    },
    "tags": []
   },
   "source": [
    "# EDA"
   ]
  },
  {
   "cell_type": "code",
   "execution_count": 3,
   "id": "ea7b6990",
   "metadata": {
    "execution": {
     "iopub.execute_input": "2022-09-10T15:13:33.027318Z",
     "iopub.status.busy": "2022-09-10T15:13:33.026604Z",
     "iopub.status.idle": "2022-09-10T15:13:33.053155Z",
     "shell.execute_reply": "2022-09-10T15:13:33.051804Z"
    },
    "papermill": {
     "duration": 0.038849,
     "end_time": "2022-09-10T15:13:33.055734",
     "exception": false,
     "start_time": "2022-09-10T15:13:33.016885",
     "status": "completed"
    },
    "tags": []
   },
   "outputs": [
    {
     "data": {
      "text/html": [
       "<div>\n",
       "<style scoped>\n",
       "    .dataframe tbody tr th:only-of-type {\n",
       "        vertical-align: middle;\n",
       "    }\n",
       "\n",
       "    .dataframe tbody tr th {\n",
       "        vertical-align: top;\n",
       "    }\n",
       "\n",
       "    .dataframe thead th {\n",
       "        text-align: right;\n",
       "    }\n",
       "</style>\n",
       "<table border=\"1\" class=\"dataframe\">\n",
       "  <thead>\n",
       "    <tr style=\"text-align: right;\">\n",
       "      <th></th>\n",
       "      <th>Humidity</th>\n",
       "      <th>Temperature</th>\n",
       "      <th>Step count</th>\n",
       "      <th>Stress Level</th>\n",
       "    </tr>\n",
       "  </thead>\n",
       "  <tbody>\n",
       "    <tr>\n",
       "      <th>0</th>\n",
       "      <td>21.33</td>\n",
       "      <td>90.33</td>\n",
       "      <td>123</td>\n",
       "      <td>1</td>\n",
       "    </tr>\n",
       "    <tr>\n",
       "      <th>1</th>\n",
       "      <td>21.41</td>\n",
       "      <td>90.41</td>\n",
       "      <td>93</td>\n",
       "      <td>1</td>\n",
       "    </tr>\n",
       "    <tr>\n",
       "      <th>2</th>\n",
       "      <td>27.12</td>\n",
       "      <td>96.12</td>\n",
       "      <td>196</td>\n",
       "      <td>2</td>\n",
       "    </tr>\n",
       "    <tr>\n",
       "      <th>3</th>\n",
       "      <td>27.64</td>\n",
       "      <td>96.64</td>\n",
       "      <td>177</td>\n",
       "      <td>2</td>\n",
       "    </tr>\n",
       "    <tr>\n",
       "      <th>4</th>\n",
       "      <td>10.87</td>\n",
       "      <td>79.87</td>\n",
       "      <td>87</td>\n",
       "      <td>0</td>\n",
       "    </tr>\n",
       "  </tbody>\n",
       "</table>\n",
       "</div>"
      ],
      "text/plain": [
       "   Humidity  Temperature  Step count  Stress Level\n",
       "0     21.33        90.33         123             1\n",
       "1     21.41        90.41          93             1\n",
       "2     27.12        96.12         196             2\n",
       "3     27.64        96.64         177             2\n",
       "4     10.87        79.87          87             0"
      ]
     },
     "execution_count": 3,
     "metadata": {},
     "output_type": "execute_result"
    }
   ],
   "source": [
    "df.head()"
   ]
  },
  {
   "cell_type": "code",
   "execution_count": 4,
   "id": "b2fa0943",
   "metadata": {
    "execution": {
     "iopub.execute_input": "2022-09-10T15:13:33.072585Z",
     "iopub.status.busy": "2022-09-10T15:13:33.072070Z",
     "iopub.status.idle": "2022-09-10T15:13:33.098988Z",
     "shell.execute_reply": "2022-09-10T15:13:33.097531Z"
    },
    "papermill": {
     "duration": 0.040612,
     "end_time": "2022-09-10T15:13:33.103631",
     "exception": false,
     "start_time": "2022-09-10T15:13:33.063019",
     "status": "completed"
    },
    "tags": []
   },
   "outputs": [
    {
     "name": "stdout",
     "output_type": "stream",
     "text": [
      "<class 'pandas.core.frame.DataFrame'>\n",
      "RangeIndex: 2001 entries, 0 to 2000\n",
      "Data columns (total 4 columns):\n",
      " #   Column        Non-Null Count  Dtype  \n",
      "---  ------        --------------  -----  \n",
      " 0   Humidity      2001 non-null   float64\n",
      " 1   Temperature   2001 non-null   float64\n",
      " 2   Step count    2001 non-null   int64  \n",
      " 3   Stress Level  2001 non-null   int64  \n",
      "dtypes: float64(2), int64(2)\n",
      "memory usage: 62.7 KB\n"
     ]
    }
   ],
   "source": [
    "df.info()"
   ]
  },
  {
   "cell_type": "code",
   "execution_count": 5,
   "id": "d204958b",
   "metadata": {
    "execution": {
     "iopub.execute_input": "2022-09-10T15:13:33.125290Z",
     "iopub.status.busy": "2022-09-10T15:13:33.124754Z",
     "iopub.status.idle": "2022-09-10T15:13:33.135791Z",
     "shell.execute_reply": "2022-09-10T15:13:33.134872Z"
    },
    "papermill": {
     "duration": 0.02402,
     "end_time": "2022-09-10T15:13:33.139340",
     "exception": false,
     "start_time": "2022-09-10T15:13:33.115320",
     "status": "completed"
    },
    "tags": []
   },
   "outputs": [
    {
     "data": {
      "text/plain": [
       "Stress Level\n",
       "1    39.480260\n",
       "2    35.482259\n",
       "0    25.037481\n",
       "Name: count, dtype: float64"
      ]
     },
     "execution_count": 5,
     "metadata": {},
     "output_type": "execute_result"
    }
   ],
   "source": [
    "((df['Stress Level'].value_counts())/len(df))*100"
   ]
  },
  {
   "cell_type": "code",
   "execution_count": 6,
   "id": "d29025c3",
   "metadata": {
    "execution": {
     "iopub.execute_input": "2022-09-10T15:13:33.156835Z",
     "iopub.status.busy": "2022-09-10T15:13:33.156389Z",
     "iopub.status.idle": "2022-09-10T15:13:33.184271Z",
     "shell.execute_reply": "2022-09-10T15:13:33.183262Z"
    },
    "papermill": {
     "duration": 0.039475,
     "end_time": "2022-09-10T15:13:33.186870",
     "exception": false,
     "start_time": "2022-09-10T15:13:33.147395",
     "status": "completed"
    },
    "tags": []
   },
   "outputs": [
    {
     "data": {
      "text/html": [
       "<div>\n",
       "<style scoped>\n",
       "    .dataframe tbody tr th:only-of-type {\n",
       "        vertical-align: middle;\n",
       "    }\n",
       "\n",
       "    .dataframe tbody tr th {\n",
       "        vertical-align: top;\n",
       "    }\n",
       "\n",
       "    .dataframe thead th {\n",
       "        text-align: right;\n",
       "    }\n",
       "</style>\n",
       "<table border=\"1\" class=\"dataframe\">\n",
       "  <thead>\n",
       "    <tr style=\"text-align: right;\">\n",
       "      <th></th>\n",
       "      <th>Humidity</th>\n",
       "      <th>Temperature</th>\n",
       "      <th>Step count</th>\n",
       "      <th>Stress Level</th>\n",
       "    </tr>\n",
       "  </thead>\n",
       "  <tbody>\n",
       "    <tr>\n",
       "      <th>count</th>\n",
       "      <td>2001.000000</td>\n",
       "      <td>2001.000000</td>\n",
       "      <td>2001.000000</td>\n",
       "      <td>2001.000000</td>\n",
       "    </tr>\n",
       "    <tr>\n",
       "      <th>mean</th>\n",
       "      <td>20.000000</td>\n",
       "      <td>89.000000</td>\n",
       "      <td>100.141429</td>\n",
       "      <td>1.104448</td>\n",
       "    </tr>\n",
       "    <tr>\n",
       "      <th>std</th>\n",
       "      <td>5.777833</td>\n",
       "      <td>5.777833</td>\n",
       "      <td>58.182948</td>\n",
       "      <td>0.771094</td>\n",
       "    </tr>\n",
       "    <tr>\n",
       "      <th>min</th>\n",
       "      <td>10.000000</td>\n",
       "      <td>79.000000</td>\n",
       "      <td>0.000000</td>\n",
       "      <td>0.000000</td>\n",
       "    </tr>\n",
       "    <tr>\n",
       "      <th>25%</th>\n",
       "      <td>15.000000</td>\n",
       "      <td>84.000000</td>\n",
       "      <td>50.000000</td>\n",
       "      <td>0.000000</td>\n",
       "    </tr>\n",
       "    <tr>\n",
       "      <th>50%</th>\n",
       "      <td>20.000000</td>\n",
       "      <td>89.000000</td>\n",
       "      <td>101.000000</td>\n",
       "      <td>1.000000</td>\n",
       "    </tr>\n",
       "    <tr>\n",
       "      <th>75%</th>\n",
       "      <td>25.000000</td>\n",
       "      <td>94.000000</td>\n",
       "      <td>150.000000</td>\n",
       "      <td>2.000000</td>\n",
       "    </tr>\n",
       "    <tr>\n",
       "      <th>max</th>\n",
       "      <td>30.000000</td>\n",
       "      <td>99.000000</td>\n",
       "      <td>200.000000</td>\n",
       "      <td>2.000000</td>\n",
       "    </tr>\n",
       "  </tbody>\n",
       "</table>\n",
       "</div>"
      ],
      "text/plain": [
       "          Humidity  Temperature   Step count  Stress Level\n",
       "count  2001.000000  2001.000000  2001.000000   2001.000000\n",
       "mean     20.000000    89.000000   100.141429      1.104448\n",
       "std       5.777833     5.777833    58.182948      0.771094\n",
       "min      10.000000    79.000000     0.000000      0.000000\n",
       "25%      15.000000    84.000000    50.000000      0.000000\n",
       "50%      20.000000    89.000000   101.000000      1.000000\n",
       "75%      25.000000    94.000000   150.000000      2.000000\n",
       "max      30.000000    99.000000   200.000000      2.000000"
      ]
     },
     "execution_count": 6,
     "metadata": {},
     "output_type": "execute_result"
    }
   ],
   "source": [
    "df.describe()"
   ]
  },
  {
   "cell_type": "markdown",
   "id": "99c7ffc9",
   "metadata": {
    "papermill": {
     "duration": 0.007364,
     "end_time": "2022-09-10T15:13:33.202182",
     "exception": false,
     "start_time": "2022-09-10T15:13:33.194818",
     "status": "completed"
    },
    "tags": []
   },
   "source": [
    "# Charting"
   ]
  },
  {
   "cell_type": "code",
   "execution_count": 7,
   "id": "c17cb0de",
   "metadata": {
    "execution": {
     "iopub.execute_input": "2022-09-10T15:13:33.220413Z",
     "iopub.status.busy": "2022-09-10T15:13:33.219219Z",
     "iopub.status.idle": "2022-09-10T15:13:33.593880Z",
     "shell.execute_reply": "2022-09-10T15:13:33.592597Z"
    },
    "papermill": {
     "duration": 0.386681,
     "end_time": "2022-09-10T15:13:33.596589",
     "exception": false,
     "start_time": "2022-09-10T15:13:33.209908",
     "status": "completed"
    },
    "tags": []
   },
   "outputs": [
    {
     "data": {
      "text/plain": [
       "<Axes: >"
      ]
     },
     "execution_count": 7,
     "metadata": {},
     "output_type": "execute_result"
    },
    {
     "data": {
      "image/png": "[encoded data removed]",
      "text/plain": [
       "<Figure size 1000x1000 with 2 Axes>"
      ]
     },
     "metadata": {},
     "output_type": "display_data"
    }
   ],
   "source": [
    "corr=df.corr()\n",
    "plt.figure(figsize=(10,10))\n",
    "sns.heatmap(corr,annot=True,cmap='Greens',square=True)"
   ]
  },
  {
   "cell_type": "code",
   "execution_count": 24,
   "id": "28508e98",
   "metadata": {
    "execution": {
     "iopub.execute_input": "2022-09-10T15:13:33.615670Z",
     "iopub.status.busy": "2022-09-10T15:13:33.614826Z",
     "iopub.status.idle": "2022-09-10T15:13:34.339009Z",
     "shell.execute_reply": "2022-09-10T15:13:34.337647Z"
    },
    "papermill": {
     "duration": 0.736745,
     "end_time": "2022-09-10T15:13:34.341953",
     "exception": false,
     "start_time": "2022-09-10T15:13:33.605208",
     "status": "completed"
    },
    "tags": []
   },
   "outputs": [
    {
     "data": {
      "text/plain": [
       "<seaborn.axisgrid.FacetGrid at 0x2a6cf5e65d0>"
      ]
     },
     "execution_count": 24,
     "metadata": {},
     "output_type": "execute_result"
    },
    {
     "data": {
      "image/png": "[encoded data removed]",
      "text/plain": [
       "<Figure size 594.611x500 with 1 Axes>"
      ]
     },
     "metadata": {},
     "output_type": "display_data"
    }
   ],
   "source": [
    "sns.relplot(x=df['Humidity'],y=df['Temperature'],hue=df['Stress Level'])"
   ]
  },
  {
   "cell_type": "markdown",
   "id": "70f6c389",
   "metadata": {
    "execution": {
     "iopub.execute_input": "2022-09-10T15:13:37.673659Z",
     "iopub.status.busy": "2022-09-10T15:13:37.672883Z",
     "iopub.status.idle": "2022-09-10T15:13:37.827968Z",
     "shell.execute_reply": "2022-09-10T15:13:37.826772Z"
    },
    "papermill": {
     "duration": 0.171598,
     "end_time": "2022-09-10T15:13:37.831584",
     "exception": false,
     "start_time": "2022-09-10T15:13:37.659986",
     "status": "completed"
    },
    "tags": []
   },
   "source": [
    "from sklearn.preprocessing import StandardScaler\n",
    "x=df[['Humidity','Temperature']]\n",
    "y=df['Stress Level'].values.reshape(-1,1)\n",
    "scaler=StandardScaler()\n",
    "x=scaler.fit_transform(x)"
   ]
  },
  {
   "cell_type": "markdown",
   "id": "d94f1f3c",
   "metadata": {
    "papermill": {
     "duration": 0.011247,
     "end_time": "2022-09-10T15:13:37.854252",
     "exception": false,
     "start_time": "2022-09-10T15:13:37.843005",
     "status": "completed"
    },
    "tags": []
   },
   "source": [
    "# model_selection"
   ]
  },
  {
   "cell_type": "code",
   "execution_count": 11,
   "id": "a2b3201a",
   "metadata": {
    "execution": {
     "iopub.execute_input": "2022-09-10T15:13:37.879663Z",
     "iopub.status.busy": "2022-09-10T15:13:37.878949Z",
     "iopub.status.idle": "2022-09-10T15:13:37.950726Z",
     "shell.execute_reply": "2022-09-10T15:13:37.949715Z"
    },
    "papermill": {
     "duration": 0.087527,
     "end_time": "2022-09-10T15:13:37.953549",
     "exception": false,
     "start_time": "2022-09-10T15:13:37.866022",
     "status": "completed"
    },
    "tags": []
   },
   "outputs": [],
   "source": [
    "from sklearn.model_selection import train_test_split,cross_val_score,GridSearchCV\n",
    "trax,tesx,tray,tesy=train_test_split(x,y,test_size=.3,random_state=42)"
   ]
  },
  {
   "cell_type": "code",
   "execution_count": 12,
   "id": "817b5668",
   "metadata": {
    "execution": {
     "iopub.execute_input": "2022-09-10T15:13:37.979618Z",
     "iopub.status.busy": "2022-09-10T15:13:37.979169Z",
     "iopub.status.idle": "2022-09-10T15:13:38.149106Z",
     "shell.execute_reply": "2022-09-10T15:13:38.147856Z"
    },
    "papermill": {
     "duration": 0.186126,
     "end_time": "2022-09-10T15:13:38.152237",
     "exception": false,
     "start_time": "2022-09-10T15:13:37.966111",
     "status": "completed"
    },
    "tags": []
   },
   "outputs": [],
   "source": [
    "from sklearn.tree import DecisionTreeClassifier\n",
    "tree=DecisionTreeClassifier(random_state=42)"
   ]
  },
  {
   "cell_type": "code",
   "execution_count": 13,
   "id": "3a630831",
   "metadata": {
    "execution": {
     "iopub.execute_input": "2022-09-10T15:13:38.177187Z",
     "iopub.status.busy": "2022-09-10T15:13:38.176723Z",
     "iopub.status.idle": "2022-09-10T15:13:39.483389Z",
     "shell.execute_reply": "2022-09-10T15:13:39.482320Z"
    },
    "papermill": {
     "duration": 1.322173,
     "end_time": "2022-09-10T15:13:39.485977",
     "exception": false,
     "start_time": "2022-09-10T15:13:38.163804",
     "status": "completed"
    },
    "tags": []
   },
   "outputs": [
    {
     "data": {
      "text/html": [
       "<style>#sk-container-id-1 {color: black;}#sk-container-id-1 pre{padding: 0;}#sk-container-id-1 div.sk-toggleable {background-color: white;}#sk-container-id-1 label.sk-toggleable__label {cursor: pointer;display: block;width: 100%;margin-bottom: 0;padding: 0.3em;box-sizing: border-box;text-align: center;}#sk-container-id-1 label.sk-toggleable__label-arrow:before {content: \"▸\";float: left;margin-right: 0.25em;color: #696969;}#sk-container-id-1 label.sk-toggleable__label-arrow:hover:before {color: black;}#sk-container-id-1 div.sk-estimator:hover label.sk-toggleable__label-arrow:before {color: black;}#sk-container-id-1 div.sk-toggleable__content {max-height: 0;max-width: 0;overflow: hidden;text-align: left;background-color: #f0f8ff;}#sk-container-id-1 div.sk-toggleable__content pre {margin: 0.2em;color: black;border-radius: 0.25em;background-color: #f0f8ff;}#sk-container-id-1 input.sk-toggleable__control:checked~div.sk-toggleable__content {max-height: 200px;max-width: 100%;overflow: auto;}#sk-container-id-1 input.sk-toggleable__control:checked~label.sk-toggleable__label-arrow:before {content: \"▾\";}#sk-container-id-1 div.sk-estimator input.sk-toggleable__control:checked~label.sk-toggleable__label {background-color: #d4ebff;}#sk-container-id-1 div.sk-label input.sk-toggleable__control:checked~label.sk-toggleable__label {background-color: #d4ebff;}#sk-container-id-1 input.sk-hidden--visually {border: 0;clip: rect(1px 1px 1px 1px);clip: rect(1px, 1px, 1px, 1px);height: 1px;margin: -1px;overflow: hidden;padding: 0;position: absolute;width: 1px;}#sk-container-id-1 div.sk-estimator {font-family: monospace;background-color: #f0f8ff;border: 1px dotted black;border-radius: 0.25em;box-sizing: border-box;margin-bottom: 0.5em;}#sk-container-id-1 div.sk-estimator:hover {background-color: #d4ebff;}#sk-container-id-1 div.sk-parallel-item::after {content: \"\";width: 100%;border-bottom: 1px solid gray;flex-grow: 1;}#sk-container-id-1 div.sk-label:hover label.sk-toggleable__label {background-color: #d4ebff;}#sk-container-id-1 div.sk-serial::before {content: \"\";position: absolute;border-left: 1px solid gray;box-sizing: border-box;top: 0;bottom: 0;left: 50%;z-index: 0;}#sk-container-id-1 div.sk-serial {display: flex;flex-direction: column;align-items: center;background-color: white;padding-right: 0.2em;padding-left: 0.2em;position: relative;}#sk-container-id-1 div.sk-item {position: relative;z-index: 1;}#sk-container-id-1 div.sk-parallel {display: flex;align-items: stretch;justify-content: center;background-color: white;position: relative;}#sk-container-id-1 div.sk-item::before, #sk-container-id-1 div.sk-parallel-item::before {content: \"\";position: absolute;border-left: 1px solid gray;box-sizing: border-box;top: 0;bottom: 0;left: 50%;z-index: -1;}#sk-container-id-1 div.sk-parallel-item {display: flex;flex-direction: column;z-index: 1;position: relative;background-color: white;}#sk-container-id-1 div.sk-parallel-item:first-child::after {align-self: flex-end;width: 50%;}#sk-container-id-1 div.sk-parallel-item:last-child::after {align-self: flex-start;width: 50%;}#sk-container-id-1 div.sk-parallel-item:only-child::after {width: 0;}#sk-container-id-1 div.sk-dashed-wrapped {border: 1px dashed gray;margin: 0 0.4em 0.5em 0.4em;box-sizing: border-box;padding-bottom: 0.4em;background-color: white;}#sk-container-id-1 div.sk-label label {font-family: monospace;font-weight: bold;display: inline-block;line-height: 1.2em;}#sk-container-id-1 div.sk-label-container {text-align: center;}#sk-container-id-1 div.sk-container {/* jupyter's `normalize.less` sets `[hidden] { display: none; }` but bootstrap.min.css set `[hidden] { display: none !important; }` so we also need the `!important` here to be able to override the default hidden behavior on the sphinx rendered scikit-learn.org. See: https://github.com/scikit-learn/scikit-learn/issues/21755 */display: inline-block !important;position: relative;}#sk-container-id-1 div.sk-text-repr-fallback {display: none;}</style><div id=\"sk-container-id-1\" class=\"sk-top-container\"><div class=\"sk-text-repr-fallback\"><pre>GridSearchCV(cv=5, estimator=DecisionTreeClassifier(random_state=42), n_jobs=-1,\n",
       "             param_grid={&#x27;criterion&#x27;: [&#x27;gini&#x27;, &#x27;entropy&#x27;],\n",
       "                         &#x27;max_depth&#x27;: [2, 4, 8, 16, None],\n",
       "                         &#x27;splitter&#x27;: [&#x27;best&#x27;, &#x27;random&#x27;]},\n",
       "             scoring=&#x27;accuracy&#x27;)</pre><b>In a Jupyter environment, please rerun this cell to show the HTML representation or trust the notebook. <br />On GitHub, the HTML representation is unable to render, please try loading this page with nbviewer.org.</b></div><div class=\"sk-container\" hidden><div class=\"sk-item sk-dashed-wrapped\"><div class=\"sk-label-container\"><div class=\"sk-label sk-toggleable\"><input class=\"sk-toggleable__control sk-hidden--visually\" id=\"sk-estimator-id-1\" type=\"checkbox\" ><label for=\"sk-estimator-id-1\" class=\"sk-toggleable__label sk-toggleable__label-arrow\">GridSearchCV</label><div class=\"sk-toggleable__content\"><pre>GridSearchCV(cv=5, estimator=DecisionTreeClassifier(random_state=42), n_jobs=-1,\n",
       "             param_grid={&#x27;criterion&#x27;: [&#x27;gini&#x27;, &#x27;entropy&#x27;],\n",
       "                         &#x27;max_depth&#x27;: [2, 4, 8, 16, None],\n",
       "                         &#x27;splitter&#x27;: [&#x27;best&#x27;, &#x27;random&#x27;]},\n",
       "             scoring=&#x27;accuracy&#x27;)</pre></div></div></div><div class=\"sk-parallel\"><div class=\"sk-parallel-item\"><div class=\"sk-item\"><div class=\"sk-label-container\"><div class=\"sk-label sk-toggleable\"><input class=\"sk-toggleable__control sk-hidden--visually\" id=\"sk-estimator-id-2\" type=\"checkbox\" ><label for=\"sk-estimator-id-2\" class=\"sk-toggleable__label sk-toggleable__label-arrow\">estimator: DecisionTreeClassifier</label><div class=\"sk-toggleable__content\"><pre>DecisionTreeClassifier(random_state=42)</pre></div></div></div><div class=\"sk-serial\"><div class=\"sk-item\"><div class=\"sk-estimator sk-toggleable\"><input class=\"sk-toggleable__control sk-hidden--visually\" id=\"sk-estimator-id-3\" type=\"checkbox\" ><label for=\"sk-estimator-id-3\" class=\"sk-toggleable__label sk-toggleable__label-arrow\">DecisionTreeClassifier</label><div class=\"sk-toggleable__content\"><pre>DecisionTreeClassifier(random_state=42)</pre></div></div></div></div></div></div></div></div></div></div>"
      ],
      "text/plain": [
       "GridSearchCV(cv=5, estimator=DecisionTreeClassifier(random_state=42), n_jobs=-1,\n",
       "             param_grid={'criterion': ['gini', 'entropy'],\n",
       "                         'max_depth': [2, 4, 8, 16, None],\n",
       "                         'splitter': ['best', 'random']},\n",
       "             scoring='accuracy')"
      ]
     },
     "execution_count": 13,
     "metadata": {},
     "output_type": "execute_result"
    }
   ],
   "source": [
    "Tpar={'criterion':['gini', 'entropy'],'splitter':['best', 'random'],'max_depth':[2,4,8,16,None]}\n",
    "treeGR=GridSearchCV(estimator=tree,param_grid=Tpar,scoring='accuracy',n_jobs=-1,cv=5)\n",
    "treeGR.fit(trax,tray)"
   ]
  },
  {
   "cell_type": "code",
   "execution_count": 14,
   "id": "74d831fb",
   "metadata": {
    "execution": {
     "iopub.execute_input": "2022-09-10T15:13:39.511041Z",
     "iopub.status.busy": "2022-09-10T15:13:39.510583Z",
     "iopub.status.idle": "2022-09-10T15:13:39.515682Z",
     "shell.execute_reply": "2022-09-10T15:13:39.514841Z"
    },
    "papermill": {
     "duration": 0.021133,
     "end_time": "2022-09-10T15:13:39.518384",
     "exception": false,
     "start_time": "2022-09-10T15:13:39.497251",
     "status": "completed"
    },
    "tags": []
   },
   "outputs": [
    {
     "name": "stdout",
     "output_type": "stream",
     "text": [
      "best score: 0.9985714285714286\n",
      "best parametr: {'criterion': 'gini', 'max_depth': 2, 'splitter': 'best'}\n"
     ]
    }
   ],
   "source": [
    "print(f'best score: {treeGR.best_score_}')\n",
    "print(f'best parametr: {treeGR.best_params_}')"
   ]
  },
  {
   "cell_type": "markdown",
   "id": "9adf435f",
   "metadata": {
    "papermill": {
     "duration": 0.010925,
     "end_time": "2022-09-10T15:13:39.540855",
     "exception": false,
     "start_time": "2022-09-10T15:13:39.529930",
     "status": "completed"
    },
    "tags": []
   },
   "source": [
    "# ensemble"
   ]
  },
  {
   "cell_type": "code",
   "execution_count": 15,
   "id": "fb2174ee",
   "metadata": {
    "execution": {
     "iopub.execute_input": "2022-09-10T15:13:39.565769Z",
     "iopub.status.busy": "2022-09-10T15:13:39.564979Z",
     "iopub.status.idle": "2022-09-10T15:13:46.673646Z",
     "shell.execute_reply": "2022-09-10T15:13:46.672455Z"
    },
    "papermill": {
     "duration": 7.124732,
     "end_time": "2022-09-10T15:13:46.676863",
     "exception": false,
     "start_time": "2022-09-10T15:13:39.552131",
     "status": "completed"
    },
    "tags": []
   },
   "outputs": [
    {
     "data": {
      "text/html": [
       "<style>#sk-container-id-2 {color: black;}#sk-container-id-2 pre{padding: 0;}#sk-container-id-2 div.sk-toggleable {background-color: white;}#sk-container-id-2 label.sk-toggleable__label {cursor: pointer;display: block;width: 100%;margin-bottom: 0;padding: 0.3em;box-sizing: border-box;text-align: center;}#sk-container-id-2 label.sk-toggleable__label-arrow:before {content: \"▸\";float: left;margin-right: 0.25em;color: #696969;}#sk-container-id-2 label.sk-toggleable__label-arrow:hover:before {color: black;}#sk-container-id-2 div.sk-estimator:hover label.sk-toggleable__label-arrow:before {color: black;}#sk-container-id-2 div.sk-toggleable__content {max-height: 0;max-width: 0;overflow: hidden;text-align: left;background-color: #f0f8ff;}#sk-container-id-2 div.sk-toggleable__content pre {margin: 0.2em;color: black;border-radius: 0.25em;background-color: #f0f8ff;}#sk-container-id-2 input.sk-toggleable__control:checked~div.sk-toggleable__content {max-height: 200px;max-width: 100%;overflow: auto;}#sk-container-id-2 input.sk-toggleable__control:checked~label.sk-toggleable__label-arrow:before {content: \"▾\";}#sk-container-id-2 div.sk-estimator input.sk-toggleable__control:checked~label.sk-toggleable__label {background-color: #d4ebff;}#sk-container-id-2 div.sk-label input.sk-toggleable__control:checked~label.sk-toggleable__label {background-color: #d4ebff;}#sk-container-id-2 input.sk-hidden--visually {border: 0;clip: rect(1px 1px 1px 1px);clip: rect(1px, 1px, 1px, 1px);height: 1px;margin: -1px;overflow: hidden;padding: 0;position: absolute;width: 1px;}#sk-container-id-2 div.sk-estimator {font-family: monospace;background-color: #f0f8ff;border: 1px dotted black;border-radius: 0.25em;box-sizing: border-box;margin-bottom: 0.5em;}#sk-container-id-2 div.sk-estimator:hover {background-color: #d4ebff;}#sk-container-id-2 div.sk-parallel-item::after {content: \"\";width: 100%;border-bottom: 1px solid gray;flex-grow: 1;}#sk-container-id-2 div.sk-label:hover label.sk-toggleable__label {background-color: #d4ebff;}#sk-container-id-2 div.sk-serial::before {content: \"\";position: absolute;border-left: 1px solid gray;box-sizing: border-box;top: 0;bottom: 0;left: 50%;z-index: 0;}#sk-container-id-2 div.sk-serial {display: flex;flex-direction: column;align-items: center;background-color: white;padding-right: 0.2em;padding-left: 0.2em;position: relative;}#sk-container-id-2 div.sk-item {position: relative;z-index: 1;}#sk-container-id-2 div.sk-parallel {display: flex;align-items: stretch;justify-content: center;background-color: white;position: relative;}#sk-container-id-2 div.sk-item::before, #sk-container-id-2 div.sk-parallel-item::before {content: \"\";position: absolute;border-left: 1px solid gray;box-sizing: border-box;top: 0;bottom: 0;left: 50%;z-index: -1;}#sk-container-id-2 div.sk-parallel-item {display: flex;flex-direction: column;z-index: 1;position: relative;background-color: white;}#sk-container-id-2 div.sk-parallel-item:first-child::after {align-self: flex-end;width: 50%;}#sk-container-id-2 div.sk-parallel-item:last-child::after {align-self: flex-start;width: 50%;}#sk-container-id-2 div.sk-parallel-item:only-child::after {width: 0;}#sk-container-id-2 div.sk-dashed-wrapped {border: 1px dashed gray;margin: 0 0.4em 0.5em 0.4em;box-sizing: border-box;padding-bottom: 0.4em;background-color: white;}#sk-container-id-2 div.sk-label label {font-family: monospace;font-weight: bold;display: inline-block;line-height: 1.2em;}#sk-container-id-2 div.sk-label-container {text-align: center;}#sk-container-id-2 div.sk-container {/* jupyter's `normalize.less` sets `[hidden] { display: none; }` but bootstrap.min.css set `[hidden] { display: none !important; }` so we also need the `!important` here to be able to override the default hidden behavior on the sphinx rendered scikit-learn.org. See: https://github.com/scikit-learn/scikit-learn/issues/21755 */display: inline-block !important;position: relative;}#sk-container-id-2 div.sk-text-repr-fallback {display: none;}</style><div id=\"sk-container-id-2\" class=\"sk-top-container\"><div class=\"sk-text-repr-fallback\"><pre>GridSearchCV(cv=5, estimator=AdaBoostClassifier(), n_jobs=-1,\n",
       "             param_grid={&#x27;learning_rate&#x27;: [1, 0.1, 0.01],\n",
       "                         &#x27;n_estimators&#x27;: [10, 20, 30, 40, 50, 60, 70, 80, 90,\n",
       "                                          100]},\n",
       "             scoring=&#x27;accuracy&#x27;)</pre><b>In a Jupyter environment, please rerun this cell to show the HTML representation or trust the notebook. <br />On GitHub, the HTML representation is unable to render, please try loading this page with nbviewer.org.</b></div><div class=\"sk-container\" hidden><div class=\"sk-item sk-dashed-wrapped\"><div class=\"sk-label-container\"><div class=\"sk-label sk-toggleable\"><input class=\"sk-toggleable__control sk-hidden--visually\" id=\"sk-estimator-id-4\" type=\"checkbox\" ><label for=\"sk-estimator-id-4\" class=\"sk-toggleable__label sk-toggleable__label-arrow\">GridSearchCV</label><div class=\"sk-toggleable__content\"><pre>GridSearchCV(cv=5, estimator=AdaBoostClassifier(), n_jobs=-1,\n",
       "             param_grid={&#x27;learning_rate&#x27;: [1, 0.1, 0.01],\n",
       "                         &#x27;n_estimators&#x27;: [10, 20, 30, 40, 50, 60, 70, 80, 90,\n",
       "                                          100]},\n",
       "             scoring=&#x27;accuracy&#x27;)</pre></div></div></div><div class=\"sk-parallel\"><div class=\"sk-parallel-item\"><div class=\"sk-item\"><div class=\"sk-label-container\"><div class=\"sk-label sk-toggleable\"><input class=\"sk-toggleable__control sk-hidden--visually\" id=\"sk-estimator-id-5\" type=\"checkbox\" ><label for=\"sk-estimator-id-5\" class=\"sk-toggleable__label sk-toggleable__label-arrow\">estimator: AdaBoostClassifier</label><div class=\"sk-toggleable__content\"><pre>AdaBoostClassifier()</pre></div></div></div><div class=\"sk-serial\"><div class=\"sk-item\"><div class=\"sk-estimator sk-toggleable\"><input class=\"sk-toggleable__control sk-hidden--visually\" id=\"sk-estimator-id-6\" type=\"checkbox\" ><label for=\"sk-estimator-id-6\" class=\"sk-toggleable__label sk-toggleable__label-arrow\">AdaBoostClassifier</label><div class=\"sk-toggleable__content\"><pre>AdaBoostClassifier()</pre></div></div></div></div></div></div></div></div></div></div>"
      ],
      "text/plain": [
       "GridSearchCV(cv=5, estimator=AdaBoostClassifier(), n_jobs=-1,\n",
       "             param_grid={'learning_rate': [1, 0.1, 0.01],\n",
       "                         'n_estimators': [10, 20, 30, 40, 50, 60, 70, 80, 90,\n",
       "                                          100]},\n",
       "             scoring='accuracy')"
      ]
     },
     "execution_count": 15,
     "metadata": {},
     "output_type": "execute_result"
    }
   ],
   "source": [
    "from sklearn.ensemble import AdaBoostClassifier\n",
    "Apar={'n_estimators':[10,20,30,40,50,60,70,80,90,100],'learning_rate':[1,.1,.01]}\n",
    "ada=AdaBoostClassifier()\n",
    "adaGR=GridSearchCV(estimator=ada,param_grid=Apar,scoring='accuracy',n_jobs=-1,cv=5)\n",
    "adaGR.fit(trax,tray)"
   ]
  },
  {
   "cell_type": "code",
   "execution_count": 16,
   "id": "ec70a410",
   "metadata": {
    "execution": {
     "iopub.execute_input": "2022-09-10T15:13:46.704911Z",
     "iopub.status.busy": "2022-09-10T15:13:46.703734Z",
     "iopub.status.idle": "2022-09-10T15:13:46.710339Z",
     "shell.execute_reply": "2022-09-10T15:13:46.709145Z"
    },
    "papermill": {
     "duration": 0.023045,
     "end_time": "2022-09-10T15:13:46.713290",
     "exception": false,
     "start_time": "2022-09-10T15:13:46.690245",
     "status": "completed"
    },
    "tags": []
   },
   "outputs": [
    {
     "name": "stdout",
     "output_type": "stream",
     "text": [
      "best score: 0.9985714285714286\n",
      "best parametr: {'learning_rate': 1, 'n_estimators': 10}\n"
     ]
    }
   ],
   "source": [
    "print(f'best score: {adaGR.best_score_}')\n",
    "print(f'best parametr: {adaGR.best_params_}')"
   ]
  },
  {
   "cell_type": "code",
   "execution_count": 17,
   "id": "17571fc2",
   "metadata": {
    "execution": {
     "iopub.execute_input": "2022-09-10T15:13:46.741315Z",
     "iopub.status.busy": "2022-09-10T15:13:46.740634Z",
     "iopub.status.idle": "2022-09-10T15:13:46.751903Z",
     "shell.execute_reply": "2022-09-10T15:13:46.750832Z"
    },
    "papermill": {
     "duration": 0.02782,
     "end_time": "2022-09-10T15:13:46.754300",
     "exception": false,
     "start_time": "2022-09-10T15:13:46.726480",
     "status": "completed"
    },
    "tags": []
   },
   "outputs": [],
   "source": [
    "adac=AdaBoostClassifier(base_estimator=DecisionTreeClassifier(criterion= 'gini', max_depth= 2, splitter= 'best'),learning_rate= 1, n_estimators= 10)\n",
    "model=adac.fit(trax,tray)"
   ]
  },
  {
   "cell_type": "code",
   "execution_count": 18,
   "id": "ea0be3e7",
   "metadata": {
    "execution": {
     "iopub.execute_input": "2022-09-10T15:13:46.781545Z",
     "iopub.status.busy": "2022-09-10T15:13:46.780711Z",
     "iopub.status.idle": "2022-09-10T15:13:46.808669Z",
     "shell.execute_reply": "2022-09-10T15:13:46.807022Z"
    },
    "papermill": {
     "duration": 0.044176,
     "end_time": "2022-09-10T15:13:46.811321",
     "exception": false,
     "start_time": "2022-09-10T15:13:46.767145",
     "status": "completed"
    },
    "tags": []
   },
   "outputs": [
    {
     "name": "stdout",
     "output_type": "stream",
     "text": [
      "mean: val_score:0.9985714285714286\n"
     ]
    }
   ],
   "source": [
    "score=cross_val_score(model,trax,tray,cv=5,scoring='accuracy')\n",
    "print(f'mean: val_score:{score.mean()}')"
   ]
  },
  {
   "cell_type": "markdown",
   "id": "c944053a",
   "metadata": {
    "papermill": {
     "duration": 0.011684,
     "end_time": "2022-09-10T15:13:46.835346",
     "exception": false,
     "start_time": "2022-09-10T15:13:46.823662",
     "status": "completed"
    },
    "tags": []
   },
   "source": [
    "# evalation"
   ]
  },
  {
   "cell_type": "code",
   "execution_count": 19,
   "id": "e794b125",
   "metadata": {
    "execution": {
     "iopub.execute_input": "2022-09-10T15:13:46.861680Z",
     "iopub.status.busy": "2022-09-10T15:13:46.860874Z",
     "iopub.status.idle": "2022-09-10T15:13:46.870300Z",
     "shell.execute_reply": "2022-09-10T15:13:46.868829Z"
    },
    "papermill": {
     "duration": 0.025676,
     "end_time": "2022-09-10T15:13:46.872897",
     "exception": false,
     "start_time": "2022-09-10T15:13:46.847221",
     "status": "completed"
    },
    "tags": []
   },
   "outputs": [
    {
     "name": "stdout",
     "output_type": "stream",
     "text": [
      "[0 1 1 1 0 2 1 1 2 1 1 0 2 1 2 1 0 2 1 1 2 1 1 0 0 0 0 0 2 2 1 0 2 1 2 0 2\n",
      " 0 0 0 0 1 1 1 2 2 1 1 2 0 1 2 1 1 1 2 0 1 1 2 2 1 2 1 1 0 1 0 1 0 2 2 0 1\n",
      " 2 0 0 2 2 0 2 2 2 2 0 2 0 2 2 2 1 1 0 0 1 0 2 2 0 1 1 2 2 1 2 2 1 0 2 1 0\n",
      " 0 2 2 0 1 2 2 1 1 2 1 1 1 1 0 2 1 1 1 2 2 2 2 2 0 0 2 2 2 2 2 2 2 0 1 2 0\n",
      " 1 1 2 1 2 0 1 2 0 0 2 1 1 0 1 1 2 1 2 2 0 1 1 0 2 1 0 2 1 2 1 1 1 0 1 2 1\n",
      " 0 0 0 1 1 0 2 2 1 1 2 1 2 2 0 0 2 2 1 1 1 1 1 0 2 0 1 2 1 0 1 1 1 1 1 0 1\n",
      " 2 1 0 0 1 1 2 1 1 2 0 2 2 2 2 1 1 0 2 0 1 1 0 1 2 2 2 2 1 2 0 1 1 1 2 1 1\n",
      " 1 1 1 2 2 2 1 1 2 0 2 1 1 1 0 2 1 2 2 0 0 1 2 0 0 2 2 0 1 2 1 1 1 2 0 0 2\n",
      " 2 2 0 1 2 2 0 2 0 2 0 0 1 1 1 1 0 1 0 0 1 2 1 2 1 2 1 1 1 1 0 2 2 1 1 1 2\n",
      " 2 0 0 2 2 2 0 1 1 0 1 1 2 2 2 2 1 0 1 1 2 1 0 2 1 2 1 2 2 1 0 1 2 0 1 1 1\n",
      " 1 2 0 2 1 2 2 2 1 2 2 2 2 2 2 1 1 2 1 1 1 2 0 1 0 1 1 0 1 0 2 2 0 0 2 0 1\n",
      " 2 2 0 2 0 0 1 1 2 2 2 2 1 2 1 2 1 2 2 0 2 1 1 0 2 1 2 1 2 1 0 0 1 1 2 2 1\n",
      " 1 2 2 1 0 2 2 1 2 0 1 0 2 0 0 2 1 0 0 1 0 1 2 0 1 0 1 2 1 0 1 0 2 0 2 2 0\n",
      " 2 1 1 0 2 0 0 0 1 1 0 0 1 2 0 0 2 2 0 2 1 2 1 1 0 1 2 0 1 0 0 1 0 0 1 1 0\n",
      " 1 1 2 1 1 1 2 1 1 2 2 2 2 1 1 0 2 0 2 2 0 2 1 2 0 1 0 0 2 0 0 0 0 0 0 0 2\n",
      " 2 0 2 0 2 0 2 1 1 0 0 1 2 1 1 0 0 2 0 2 1 1 0 1 2 1 1 0 1 1 1 1 0 2 1 2 1\n",
      " 2 1 1 2 2 1 2 2 1]\n",
      " accuracy : 1.0\n",
      "kappa_score : 1.0\n"
     ]
    }
   ],
   "source": [
    "from sklearn.metrics import cohen_kappa_score,accuracy_score\n",
    "yhat=model.predict(tesx)\n",
    "model.predict(np.array([21.33,91.33]).reshape(1, -1))\n",
    "print(yhat)\n",
    "print(f' accuracy : {accuracy_score(tesy,yhat)}')\n",
    "print(f'kappa_score : {cohen_kappa_score(tesy,yhat)}')"
   ]
  },
  {
   "cell_type": "code",
   "execution_count": 20,
   "id": "03690736",
   "metadata": {},
   "outputs": [],
   "source": [
    "import pickle\n",
    "\n",
    "# Assuming you have already trained your model and named it 'adac'\n",
    "# Save the model to a file\n",
    "with open('stress-level-prediction.pkl', 'wb') as file:\n",
    "    pickle.dump(model, file)"
   ]
  },
  {
   "cell_type": "code",
   "execution_count": 21,
   "id": "0efb3407",
   "metadata": {},
   "outputs": [
    {
     "data": {
      "text/plain": [
       "2"
      ]
     },
     "execution_count": 21,
     "metadata": {},
     "output_type": "execute_result"
    }
   ],
   "source": [
    "model.predict(np.array([21.33,91.33]).reshape(1,-1))[0]"
   ]
  },
  {
   "cell_type": "code",
   "execution_count": 22,
   "id": "0120deae",
   "metadata": {},
   "outputs": [
    {
     "data": {
      "text/plain": [
       "array([[21.33, 91.33]])"
      ]
     },
     "execution_count": 22,
     "metadata": {},
     "output_type": "execute_result"
    }
   ],
   "source": [
    "import numpy as np\n",
    "np.array([21.33,91.33]).reshape(1,-1)"
   ]
  },
  {
   "cell_type": "code",
   "execution_count": null,
   "id": "482973ed",
   "metadata": {},
   "outputs": [],
   "source": []
  }
 ],
 "metadata": {
  "kernelspec": {
   "display_name": "Python 3 (ipykernel)",
   "language": "python",
   "name": "python3"
  },
  "language_info": {
   "codemirror_mode": {
    "name": "ipython",
    "version": 3
   },
   "file_extension": ".py",
   "mimetype": "text/x-python",
   "name": "python",
   "nbconvert_exporter": "python",
   "pygments_lexer": "ipython3",
   "version": "3.11.5"
  },
  "papermill": {
   "default_parameters": {},
   "duration": 27.361587,
   "end_time": "2022-09-10T15:13:49.815636",
   "environment_variables": {},
   "exception": null,
   "input_path": "__notebook__.ipynb",
   "output_path": "__notebook__.ipynb",
   "parameters": {},
   "start_time": "2022-09-10T15:13:22.454049",
   "version": "2.3.4"
  }
 },
 "nbformat": 4,
 "nbformat_minor": 5
}
